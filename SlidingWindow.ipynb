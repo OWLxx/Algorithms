{
 "cells": [
  {
   "cell_type": "markdown",
   "metadata": {},
   "source": [
    "## 1. Maximum Sum subarray (Kadane's algorithm)\n",
    "```\n",
    "Loop for each element of the array\n",
    "  (a) max_ending_here = max_ending_here + a[i]\n",
    "  (b) if(max_ending_here < 0)\n",
    "            max_ending_here = 0\n",
    "  (c) if(max_so_far < max_ending_here)\n",
    "            max_so_far = max_ending_here\n",
    "return max_so_far\n",
    "```"
   ]
  },
  {
   "cell_type": "markdown",
   "metadata": {},
   "source": [
    "## [2. Maximum Sum rectangulars in matrix](https://www.youtube.com/watch?v=yCQN096CwWM)\n",
    "\n",
    "```\n",
    "1. CuSum matrix    O(n**2)\n",
    "2. \n",
    "2  1  -3 -4 -5\n",
    "0  6   3  4  1\n",
    "2 -2  -1  4 -5\n",
    "-3 3   1  -  3\n",
    "Algorithms: \n",
    "1. Implement Kadan's algorithm for itself (row), then for the column \n",
    "2\n",
    "0\n",
    "2\n",
    "-3\n",
    "maximum = 4       l, r, u, d = 0, 0, 0, 2\n",
    "3\n",
    "6\n",
    "0\n",
    "0\n",
    "maximum = 9,      l, r, u, d = 0, 1, 0, 1\n",
    "0\n",
    "9\n",
    "-1\n",
    "1\n",
    "do nothing\n",
    "-4\n",
    "13\n",
    "3\n",
    "1\n",
    "maximum = 17,    l,r, u, d = 0, 3, 1, 3\n",
    ".....\n",
    "2. Iterate then through L in range(N)\n",
    "```\n",
    "\n"
   ]
  },
  {
   "cell_type": "markdown",
   "metadata": {},
   "source": [
    "## [3. Max Sum of Continuous array No Larger Than K](https://www.quora.com/Given-an-array-of-integers-A-and-an-integer-k-find-a-subarray-that-contains-the-largest-sum-subject-to-a-constraint-that-the-sum-is-less-than-k)\n",
    "```\n",
    "1. Implement a cumsum array\n",
    "2. Iterate through i->0:n\n",
    "    Binary search cusum[i]-k\n",
    "    Record the minimum\n",
    "return Maximum\n",
    "O(nlog(n))\n",
    "```"
   ]
  },
  {
   "cell_type": "markdown",
   "metadata": {},
   "source": [
    "## [4.Max Sum of Rectangle No Larger than K](https://www.quora.com/Given-an-array-of-integers-A-and-an-integer-k-find-a-subarray-that-contains-the-largest-sum-subject-to-a-constraint-that-the-sum-is-less-than-k)\n",
    "```\n",
    "1. Get CumSum Matrix\n",
    "2. Verify that like in 3\n",
    "```"
   ]
  },
  {
   "cell_type": "markdown",
   "metadata": {},
   "source": [
    "## [5. Sliding Window maximum](https://leetcode.com/problems/sliding-window-maximum/description/)\n",
    "\n",
    "##### Using a heap and save index. If the poped index do not belong to the sliding window range, discard it\n"
   ]
  },
  {
   "cell_type": "markdown",
   "metadata": {},
   "source": [
    "## 6. Knuth-Morris-Pratt (KMP) Matcher\n",
    "```\n",
    "◮ A linear time (!) algorithm that solves the string matching\n",
    "problem by preprocessing P in Θ(m) time\n",
    "    – Main idea is to skip some comparisons by using the previous\n",
    "    comparison result\n",
    "◮ Uses an auxiliary array π that is defined as the following:\n",
    "    – π[i] is the largest integer smaller than i such that P1 . . . Pπ[i]\n",
    "    is a suffix of P1 . . . Pi\n",
    "◮ ... It’s better to see an example than the definition\n",
    "```\n"
   ]
  },
  {
   "cell_type": "code",
   "execution_count": null,
   "metadata": {
    "collapsed": true
   },
   "outputs": [],
   "source": []
  }
 ],
 "metadata": {
  "kernelspec": {
   "display_name": "Python 3",
   "language": "python",
   "name": "python3"
  },
  "language_info": {
   "codemirror_mode": {
    "name": "ipython",
    "version": 3
   },
   "file_extension": ".py",
   "mimetype": "text/x-python",
   "name": "python",
   "nbconvert_exporter": "python",
   "pygments_lexer": "ipython3",
   "version": "3.6.3"
  }
 },
 "nbformat": 4,
 "nbformat_minor": 2
}
