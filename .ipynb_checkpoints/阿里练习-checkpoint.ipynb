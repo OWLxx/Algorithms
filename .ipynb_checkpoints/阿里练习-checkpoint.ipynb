{
 "cells": [
  {
   "cell_type": "markdown",
   "metadata": {},
   "source": [
    "```\n",
    "现在城市有N个路口，每个路口有自己的编号，从0到N-1，每个路口还有自己的交通控制信号，例如0,3表示0号路口的交通信号每3个时刻变化一次，即0到3时刻0号路口允许通过，3到6时刻不允许通过，而6到9时刻又允许通过；以此类推，所有路口的允许通行都从时刻0开始。同时城市中存在M条道路将这N个路口相连接起来，确保从一个路口到另一个路口都可达，每条路由两个端点加上通行所需要的时间表示。现在给定起始路口和目的路口，从0时刻出发,请问最快能在什么时刻到达？\n",
    "\n",
    "eg:\n",
    "input\n",
    "6 \n",
    "0,16 \n",
    "1,17 \n",
    "2,15 \n",
    "3,17 \n",
    "4,18 \n",
    "5,14 \n",
    "9 \n",
    "0,1,66 \n",
    "0,2,80 \n",
    "0,3,50 \n",
    "1,4,78 \n",
    "1,5,90 \n",
    "1,2,30 \n",
    "2,3,45 \n",
    "2,5,81 \n",
    "4,5,76\n",
    "output\n",
    "1 2 66.0 \n",
    "1 3 80.0 \n",
    "1 4 50.0 \n",
    "1 5 146.0 \n",
    "1 6 158.0 \n",
    "2 1 66.0 \n",
    "2 3 30.0 \n",
    "2 4 75.0 \n",
    "2 5 78.0 \n",
    "2 6 90.0 \n",
    "3 1 80.0 \n",
    "3 2 30.0 \n",
    "3 4 45.0 \n",
    "3 5 112.0 \n",
    "3 6 81.0 \n",
    "4 1 50.0 \n",
    "4 2 90.0 \n",
    "4 3 45.0 \n",
    "4 5 180.0 \n",
    "4 6 141.0 \n",
    "5 1 144.0 \n",
    "5 2 78.0 \n",
    "5 3 108.0 \n",
    "5 4 165.0 \n",
    "5 6 76.0 \n",
    "6 1 168.0 \n",
    "6 2 90.0 \n",
    "6 3 81.0 \n",
    "6 4 135.0 \n",
    "6 5 76.0\n",
    "```"
   ]
  },
  {
   "cell_type": "code",
   "execution_count": 27,
   "metadata": {},
   "outputs": [
    {
     "name": "stdout",
     "output_type": "stream",
     "text": [
      "defaultdict(<class 'dict'>, {0: {1: 66, 2: 80, 3: 50}, 1: {0: 66, 4: 78, 5: 90, 2: 30}, 2: {0: 80, 1: 30, 3: 45, 5: 81}, 3: {0: 50, 2: 45}, 4: {1: 78, 5: 76}, 5: {1: 90, 2: 81, 4: 76}})\n"
     ]
    },
    {
     "data": {
      "text/plain": [
       "158"
      ]
     },
     "execution_count": 27,
     "metadata": {},
     "output_type": "execute_result"
    }
   ],
   "source": [
    "\"\"\"\n",
    "Shortest path + bias\n",
    "Dijkstra\n",
    "\"\"\"\n",
    "import collections\n",
    "def waitTime(curTime, target, cross):\n",
    "    if curTime%cross[target]%2==0:\n",
    "        return 0\n",
    "    else:\n",
    "        return cross[target] - (curTime%cross[target])\n",
    "    \n",
    "def solver(crossing, path, start, end):\n",
    "    num = len(crossing)\n",
    "    unvisited = {i:float('inf') for i in range(num)}\n",
    "    unvisited[start] = 0\n",
    "    visited = dict()\n",
    "    \n",
    "    graph = collections.defaultdict(dict)\n",
    "    for i, j, time in path:\n",
    "        graph[i][j] = time\n",
    "        graph[j][i] = time\n",
    "    cross = dict()\n",
    "    print(graph)\n",
    "    for idx, dly in crossing:\n",
    "        cross[idx] = dly\n",
    "    while end not in visited:\n",
    "        curNode = min(list(unvisited.keys()), key=lambda x: unvisited[x])\n",
    "        visited[curNode] = unvisited[curNode]\n",
    "        del unvisited[curNode]\n",
    "        for nei in graph[curNode].keys():\n",
    "            if nei in unvisited:               \n",
    "                wait = waitTime(visited[curNode], curNode, cross)\n",
    "                unvisited[nei] = min(unvisited[nei], visited[curNode]+graph[curNode][nei] + wait)\n",
    "    return visited[curNode]\n",
    "        \n",
    "crossing = [[0, 16], [1, 17], [2, 15], [3, 17], [4, 18], [5, 14]]\n",
    "path = [[0, 1, 66], [0, 2, 80], [0, 3, 50], [1, 4, 78], [1, 5, 90], [1, 2, 30], [2, 3, 45], [2, 5, 81], [4, 5, 76]]\n",
    "solver(crossing, path, 0, 5)\n",
    "    "
   ]
  },
  {
   "cell_type": "code",
   "execution_count": null,
   "metadata": {
    "collapsed": true
   },
   "outputs": [],
   "source": []
  }
 ],
 "metadata": {
  "kernelspec": {
   "display_name": "Python 3",
   "language": "python",
   "name": "python3"
  },
  "language_info": {
   "codemirror_mode": {
    "name": "ipython",
    "version": 3
   },
   "file_extension": ".py",
   "mimetype": "text/x-python",
   "name": "python",
   "nbconvert_exporter": "python",
   "pygments_lexer": "ipython3",
   "version": "3.6.3"
  }
 },
 "nbformat": 4,
 "nbformat_minor": 2
}
