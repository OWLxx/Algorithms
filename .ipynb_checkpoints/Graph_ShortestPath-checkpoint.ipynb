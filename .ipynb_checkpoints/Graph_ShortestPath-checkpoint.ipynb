{
 "cells": [
  {
   "cell_type": "markdown",
   "metadata": {},
   "source": [
    "### [1. Dijkstra](https://en.wikipedia.org/wiki/Dijkstra%27s_algorithm)\n",
    "```\n",
    "Visited = {start}          Unvisited = {All except start}\n",
    "while Unvisited:\n",
    "    ......\n",
    "```\n",
    "Worst-case performance\tO(|E|+|V|log |V|) <br>\n",
    "**Note**: A heap or priority queue support the following operations can speed up the complexity <br>\n",
    "add_with_priority(), decrease_priority() and extract_min()"
   ]
  },
  {
   "cell_type": "markdown",
   "metadata": {},
   "source": [
    "### [2. Bellman-Ford](https://en.wikipedia.org/wiki/Bellman%E2%80%93Ford_algorithm) (negative weights)\n",
    "Worst-case performance O(|E||V|) \n",
    "```\n",
    "relax edges repeatly, and check for negative-weight cycles, UNTIL you are tired or you cannot find any improvement\n",
    "```"
   ]
  },
  {
   "cell_type": "markdown",
   "metadata": {},
   "source": [
    "### [3. Floyd-Warshall algorithm](https://en.wikipedia.org/wiki/Floyd%E2%80%93Warshall_algorithm) (negative weights, no negative cycles)(any point can be start point)\n",
    "Worst-case performance O(|V|**3)\n",
    "```\n",
    "1 let dist be a |V| × |V| array of minimum distances initialized to ∞ (infinity)\n",
    "2 for each vertex v\n",
    "3    dist[v][v] ← 0\n",
    "4 for each edge (u,v)\n",
    "5    dist[u][v] ← w(u,v)  // the weight of the edge (u,v)\n",
    "6 for k from 1 to |V|\n",
    "7    for i from 1 to |V|\n",
    "8       for j from 1 to |V|\n",
    "9          if dist[i][j] > dist[i][k] + dist[k][j] \n",
    "10             dist[i][j] ← dist[i][k] + dist[k][j]\n",
    "11         end if\n",
    "```"
   ]
  },
  {
   "cell_type": "markdown",
   "metadata": {},
   "source": [
    "### [4. Johnson's algorithm](https://en.wikipedia.org/wiki/Johnson%27s_algorithm) (sparse graph, anypoint can be start point)"
   ]
  },
  {
   "cell_type": "code",
   "execution_count": null,
   "metadata": {
    "collapsed": true
   },
   "outputs": [],
   "source": []
  }
 ],
 "metadata": {
  "kernelspec": {
   "display_name": "Python 3",
   "language": "python",
   "name": "python3"
  },
  "language_info": {
   "codemirror_mode": {
    "name": "ipython",
    "version": 3
   },
   "file_extension": ".py",
   "mimetype": "text/x-python",
   "name": "python",
   "nbconvert_exporter": "python",
   "pygments_lexer": "ipython3",
   "version": "3.6.3"
  }
 },
 "nbformat": 4,
 "nbformat_minor": 2
}
