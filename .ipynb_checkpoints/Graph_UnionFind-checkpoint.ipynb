{
 "cells": [
  {
   "cell_type": "markdown",
   "metadata": {},
   "source": [
    "# Union Find\n",
    "Idea: After Union Find, use a hashmap to store connected components\n",
    "\n",
    "Cool code: return len(set(map(find, p)))   # p is range(n) after Union Find\n",
    "\n",
    "## 648. Redundant Connection\n",
    "In this problem, a tree is an undirected graph that is connected and has no cycles.\n",
    "\n",
    "The given input is a graph that started as a tree with N nodes (with distinct values 1, 2, ..., N), with one additional edge added. The added edge has two different vertices chosen from 1 to N, and was not an edge that already existed.\n",
    "\n",
    "The resulting graph is given as a 2D-array of edges. Each element of edges is a pair [u, v] with u < v, that represents an undirected edge connecting nodes u and v.\n",
    "\n",
    "Return an edge that can be removed so that the resulting graph is a tree of N nodes. If there are multiple answers, return the answer that occurs last in the given 2D-array. The answer edge [u, v] should be in the same format, with u < v.\n",
    "```\n",
    "Example 1: \n",
    "Input: [[1,2], [1,3], [2,3]]\n",
    "Output: [2,3]\n",
    "Explanation: The given undirected graph will be like this:\n",
    "  1\n",
    " / \\\n",
    "2 - 3\n",
    "Example 2:\n",
    "Input: [[1,2], [2,3], [3,4], [1,4], [1,5]]\n",
    "Output: [1,4]\n",
    "Explanation: The given undirected graph will be like this:\n",
    "5 - 1 - 2\n",
    "    |   |\n",
    "    4 - 3\n",
    "Note:\n",
    "The size of the input 2D-array will be between 3 and 1000.\n",
    "Every integer represented in the 2D-array will be between 1 and N, where N is the size of the input array.\n",
    "```\n",
    "\n",
    "[[1,2], [1,3], [2,3]]\n",
    "\n",
    "\n",
    "[Null, 1,  1]       [Null, 2, 1]  <br>\n",
    "[Null, 1,  1,  1]   [Null, 2, 1, 1] <br>\n",
    "when adding [2,3]  they are already connected, because head[2] == head[3] <br>\n",
    "\n"
   ]
  },
  {
   "cell_type": "code",
   "execution_count": 8,
   "metadata": {},
   "outputs": [],
   "source": [
    "def findRedundantConnection(self, edges):\n",
    "    # chr, ord is the reverse of each other  \n",
    "    # chr is not str !!!!!!!! python2 chr 0-255, python3 chr 0-2**16\n",
    "    tree = ''.join(map(chr, range(1001)))\n",
    "    for u, v in edges:\n",
    "        if tree[u] == tree[v]:\n",
    "            return [u, v]\n",
    "        tree = tree.replace(tree[u], tree[v])"
   ]
  },
  {
   "cell_type": "code",
   "execution_count": 7,
   "metadata": {},
   "outputs": [
    {
     "data": {
      "text/plain": [
       "'Ϩ'"
      ]
     },
     "execution_count": 7,
     "metadata": {},
     "output_type": "execute_result"
    }
   ],
   "source": [
    "chr(1000)"
   ]
  },
  {
   "cell_type": "markdown",
   "metadata": {},
   "source": [
    "## 685. Redundant Connection II\n",
    "In this problem, a rooted tree is a directed graph such that, there is exactly one node (the root) for which all other nodes are descendants of this node, plus every node has exactly one parent, except for the root node which has no parents.\n",
    "\n",
    "**Idea** <br>\n",
    "Remove if \n",
    "1. A node have two parents\n",
    "2. There is a loop inside"
   ]
  },
  {
   "cell_type": "markdown",
   "metadata": {},
   "source": [
    "## 721. Accounts Merge\n",
    "Given a list accounts, each element accounts[i] is a list of strings, where the first element accounts[i][0] is a name, and the rest of the elements are emails representing emails of the account.\n",
    "\n",
    "Now, we would like to merge these accounts. Two accounts definitely belong to the same person if there is some email that is common to both accounts. Note that even if two accounts have the same name, they may belong to different people as people could have the same name. A person can have any number of accounts initially, but all of their accounts definitely have the same name.\n",
    "\n",
    "After merging the accounts, return the accounts in the following format: the first element of each account is the name, and the rest of the elements are emails in sorted order. The accounts themselves can be returned in any order.\n",
    "```\n",
    "Example 1:\n",
    "Input: \n",
    "accounts = [[\"John\", \"johnsmith@mail.com\", \"john00@mail.com\"], [\"John\", \"johnnybravo@mail.com\"], [\"John\", \"johnsmith@mail.com\", \"john_newyork@mail.com\"], [\"Mary\", \"mary@mail.com\"]]\n",
    "Output: [[\"John\", 'john00@mail.com', 'john_newyork@mail.com', 'johnsmith@mail.com'],  [\"John\", \"johnnybravo@mail.com\"], [\"Mary\", \"mary@mail.com\"]]\n",
    "Explanation: \n",
    "The first and third John's are the same person as they have the common email \"johnsmith@mail.com\".\n",
    "The second John and Mary are different people as none of their email addresses are used by other accounts.\n",
    "We could return these lists in any order, for example the answer [['Mary', 'mary@mail.com'], ['John', 'johnnybravo@mail.com'], \n",
    "['John', 'john00@mail.com', 'john_newyork@mail.com', 'johnsmith@mail.com']] would still be accepted.\n",
    "```"
   ]
  },
  {
   "cell_type": "code",
   "execution_count": 11,
   "metadata": {
    "collapsed": true
   },
   "outputs": [],
   "source": [
    "## My previous solution,  trie ???????????????\n",
    "def accountsMerge_prev(self, accounts):\n",
    "        \"\"\"\n",
    "        :type accounts: List[List[str]]\n",
    "        :rtype: List[List[str]]\n",
    "        \"\"\"\n",
    "        trie = {}\n",
    "        for info in accounts:\n",
    "            name = info[0]\n",
    "            emails = info[1:]\n",
    "            if name not in trie:\n",
    "                trie[name] = {}\n",
    "            ctrie = trie[name]\n",
    "            if 0 not in ctrie:\n",
    "                ctrie[0] = set(emails)\n",
    "            else:\n",
    "                linkKey = []\n",
    "                for k, v in ctrie.items():\n",
    "                    if any(email in v for email in emails):\n",
    "                        linkKey.append(k)\n",
    "\n",
    "                if not linkKey:\n",
    "                    ctrie[max(ctrie.keys())+1] = set(emails)\n",
    "                elif len(linkKey)==1:\n",
    "                    for e in emails:\n",
    "                        ctrie[linkKey[0]].add(e)\n",
    "                else:\n",
    "                    for tk in linkKey[1:]:\n",
    "                        ctrie[linkKey[0]] = ctrie[linkKey[0]].union(ctrie[tk])\n",
    "                    for tk in linkKey[1:]:\n",
    "                        del ctrie[tk]\n",
    "                    for e in emails:\n",
    "                        ctrie[linkKey[0]].add(e)    \n",
    "\n",
    "        ans = []\n",
    "        for k1, v1 in trie.items():\n",
    "            for k2, v2 in v1.items():\n",
    "                ans.append(sorted([k1] + list(v2)))\n",
    "\n",
    "        ans.sort()\n",
    "        return ans\n",
    "    \n",
    "## union find solution\n",
    "class DSU:\n",
    "    def __init__(self):\n",
    "        self.p = range(10001)\n",
    "    def find(self, x):\n",
    "        if self.p[x] != x:\n",
    "            self.p[x] = self.find(self.p[x])\n",
    "        return self.p[x]\n",
    "    def union(self, x, y):\n",
    "        self.p[self.find(x)] = self.find(y)\n",
    "\n",
    "class Solution(object):\n",
    "    def accountsMerge(self, accounts):\n",
    "        dsu = DSU()\n",
    "        em_to_name = {}\n",
    "        em_to_id = {}\n",
    "        i = 0\n",
    "        for acc in accounts:\n",
    "            name = acc[0]\n",
    "            for email in acc[1:]:\n",
    "                em_to_name[email] = name\n",
    "                if email not in em_to_id:\n",
    "                    em_to_id[email] = i\n",
    "                    i += 1\n",
    "                dsu.union(em_to_id[acc[1]], em_to_id[email])\n",
    "\n",
    "        ans = collections.defaultdict(list)     # use idx as the key of dictionary\n",
    "        for email in em_to_name:\n",
    "            ans[dsu.find(em_to_id[email])].append(email)\n",
    "\n",
    "        return [[em_to_name[v[0]]] + sorted(v) for v in ans.values()]"
   ]
  },
  {
   "cell_type": "markdown",
   "metadata": {},
   "source": [
    "## 323. Number of Connected Components in an Undirected Graph\n",
    "Given n nodes labeled from 0 to n - 1 and a list of undirected edges (each edge is a pair of nodes), write a function to find the number of connected components in an undirected graph.\n",
    "```\n",
    "Example 1:\n",
    "     0          3\n",
    "     |          |\n",
    "     1 --- 2    4\n",
    "Given n = 5 and edges = [[0, 1], [1, 2], [3, 4]], return 2.\n",
    "\n",
    "Example 2:\n",
    "     0           4\n",
    "     |           |\n",
    "     1 --- 2 --- 3\n",
    "Given n = 5 and edges = [[0, 1], [1, 2], [2, 3], [3, 4]], return 1.\n",
    "\n",
    "Note:\n",
    "You can assume that no duplicate edges will appear in edges. Since all edges are undirected, [0, 1] is the same as [1, 0] and thus will not appear together in edges.\n",
    "```"
   ]
  },
  {
   "cell_type": "code",
   "execution_count": 12,
   "metadata": {
    "collapsed": true
   },
   "outputs": [],
   "source": [
    "def countComponents(self, n, edges):\n",
    "    p = range(n)\n",
    "    def find(v):\n",
    "        if p[v] != v:\n",
    "            p[v] = find(p[v])\n",
    "        return p[v]\n",
    "    for v, w in edges:\n",
    "        p[find(v)] = find(w)\n",
    "    return len(set(map(find, p)))"
   ]
  },
  {
   "cell_type": "markdown",
   "metadata": {},
   "source": [
    "## 261. Graph Valid Tree\n",
    "\n",
    "Given n nodes labeled from 0 to n - 1 and a list of undirected edges (each edge is a pair of nodes), write a function to check whether these edges make up a valid tree.\n",
    "```\n",
    "For example:\n",
    "\n",
    "Given n = 5 and edges = [[0, 1], [0, 2], [0, 3], [1, 4]], return true.\n",
    "\n",
    "Given n = 5 and edges = [[0, 1], [1, 2], [2, 3], [1, 3], [1, 4]], return false.\n",
    "\n",
    "Note: you can assume that no duplicate edges will appear in edges. Since all edges are undirected, [0, 1] is the same as [1, 0] and thus will not appear together in edges.\n",
    "```\n",
    "**Idea**: In union, set parent[x] = y; return x != y is sufficient \n",
    "```python\n",
    "def validTree(self, n, edges):\n",
    "    if len(edges) != n - 1:\n",
    "        return False\n",
    "    parent = range(n)\n",
    "    def find(x):\n",
    "        return x if parent[x] == x else find(parent[x])\n",
    "    def union(xy):\n",
    "        x, y = map(find, xy)\n",
    "        parent[x] = y\n",
    "        return x != y\n",
    "    return all(map(union, edges))\n",
    "```\n"
   ]
  },
  {
   "cell_type": "code",
   "execution_count": null,
   "metadata": {
    "collapsed": true
   },
   "outputs": [],
   "source": []
  }
 ],
 "metadata": {
  "kernelspec": {
   "display_name": "Python 3",
   "language": "python",
   "name": "python3"
  },
  "language_info": {
   "codemirror_mode": {
    "name": "ipython",
    "version": 3
   },
   "file_extension": ".py",
   "mimetype": "text/x-python",
   "name": "python",
   "nbconvert_exporter": "python",
   "pygments_lexer": "ipython3",
   "version": "3.6.3"
  }
 },
 "nbformat": 4,
 "nbformat_minor": 2
}
