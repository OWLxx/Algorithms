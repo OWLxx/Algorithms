{
 "cells": [
  {
   "cell_type": "markdown",
   "metadata": {},
   "source": [
    "# Eulerian Circuit  (Visit post order)\n",
    "*  Given an undirected graph G   <br>\n",
    "*  Want to find a sequence of nodes that visits every edge exactly once and comes back to the starting point <br>\n",
    "*  Eulerian Circuits exist iff  <br>\n",
    "    + G is connected <br>\n",
    "    + each node has an even degree <br>\n",
    "    \n",
    "    \n",
    "    \n",
    "* Pick any node in G and walk randomly without using the same edge more than once\n",
    "* Each node is of even degree, so when you enter a node, there will be an unused edge you exit through\n",
    "    – Except at the starting point, at which you can get stuck\n",
    "* When you get stuck, what you have is a cycle\n",
    "    – Remove the cycle and repeat the process in each connected\n",
    "    component\n",
    "    – Glue the cycles together to finish!\n",
    "\n"
   ]
  },
  {
   "cell_type": "markdown",
   "metadata": {},
   "source": [
    "## 753. Cracking the Safe\n",
    "There is a box protected by a password. The password is n digits, where each letter can be one of the first k digits 0, 1, ..., k-1.\n",
    "\n",
    "You can keep inputting the password, the password will automatically be matched against the last n digits entered.\n",
    "\n",
    "For example, assuming the password is \"345\", I can open it when I type \"012345\", but I enter a total of 6 digits.\n",
    "\n",
    "Please return any string of minimum length that is guaranteed to open the box after the entire string is inputted.\n",
    "```\n",
    "Example 1:\n",
    "Input: n = 1, k = 2\n",
    "Output: \"01\"\n",
    "Note: \"10\" will be accepted too.\n",
    "Example 2:\n",
    "Input: n = 2, k = 2\n",
    "Output: \"00110\"\n",
    "Note: \"01100\", \"10011\", \"11001\" will be accepted too.\n",
    "```\n",
    "We can think of this problem as the problem of finding an Euler path (a path visiting every edge exactly once) on the following graph: there are k^(n-1)  nodes with each node having k edges.\n",
    "\n",
    "For example, when k = 4, n = 3, the nodes are '00', '01', '02', ..., '32', '33' and each node has 4 edges '0', '1', '2', '3'. A node plus edge represents a complete edge and viewing that substring in our answer.\n",
    "\n",
    "Any connected directed graph where all nodes have equal in-degree and out-degree has an Euler circuit (an Euler path ending where it started.) Because our graph is highly connected and symmetric, we should expect intuitively that taking any path greedily in some order will probably result in an Euler path.\n",
    "\n",
    "This intuition is called Hierholzer's algorithm: **whenever there is an Euler cycle, we can construct it greedily.** The algorithm goes as follows:\n",
    "\n",
    "* Starting from a vertex u, we walk through (unwalked) edges until we get stuck. Because the in-degrees and out-degrees of each node are equal, we can only get stuck at u, which forms a cycle.\n",
    "\n",
    "* Now, for any node v we had visited that has unwalked edges, we start a new cycle from v with the same procedure as above, and then merge the cycles together to form a new cycle u→⋯→v→⋯→v→⋯→u.\n",
    "\n",
    "\n",
    "For example, with k = 2, n = 2, we have the nodes '0', '1'. If we greedily visit complete edges '00', '01', '10', we will be stuck at the node '0' prematurely. **However, if we visit in post-order, we'll end up visiting '00', '01', '11', '10' correctly.**"
   ]
  },
  {
   "cell_type": "code",
   "execution_count": 1,
   "metadata": {
    "collapsed": true
   },
   "outputs": [],
   "source": [
    "def crackSafe(self, n, k):\n",
    "        \"\"\"\n",
    "        :type n: int\n",
    "        :type k: int\n",
    "        :rtype: str\n",
    "        \"\"\"\n",
    "        \"\"\"\n",
    "        n = 3, k = 3\n",
    "        \"002221220211210201200111010  00\"\n",
    "        \"\"\"\n",
    "        visited = set()\n",
    "        self.ans = ''\n",
    "        def dfs(cur):\n",
    "            for i in range(k-1, -1, -1):  # revrsed order\n",
    "                nxt = cur + str(i)\n",
    "                if nxt not in visited:\n",
    "                    visited.add(nxt)\n",
    "                    self.ans += str(i)\n",
    "                    dfs(nxt[1:])\n",
    "        cur = '0'*(n-1)\n",
    "        dfs(cur)\n",
    "        return cur + self.ans       \n",
    "    \n"
   ]
  },
  {
   "cell_type": "markdown",
   "metadata": {},
   "source": [
    "## 332. Reconstruct Itinerary\n",
    "Given a list of airline tickets represented by pairs of departure and arrival airports [from, to], reconstruct the itinerary in order. All of the tickets belong to a man who departs from JFK. Thus, the itinerary must begin with JFK.\n",
    "```\n",
    "Note:\n",
    "If there are multiple valid itineraries, you should return the itinerary that has the smallest lexical order when read as a single string. For example, the itinerary [\"JFK\", \"LGA\"] has a smaller lexical order than [\"JFK\", \"LGB\"].\n",
    "All airports are represented by three capital letters (IATA code).\n",
    "You may assume all tickets form at least one valid itinerary.\n",
    "Example 1:\n",
    "tickets = [[\"MUC\", \"LHR\"], [\"JFK\", \"MUC\"], [\"SFO\", \"SJC\"], [\"LHR\", \"SFO\"]]\n",
    "Return [\"JFK\", \"MUC\", \"LHR\", \"SFO\", \"SJC\"].\n",
    "Example 2:\n",
    "tickets = [[\"JFK\",\"SFO\"],[\"JFK\",\"ATL\"],[\"SFO\",\"ATL\"],[\"ATL\",\"JFK\"],[\"ATL\",\"SFO\"]]\n",
    "Return [\"JFK\",\"ATL\",\"JFK\",\"SFO\",\"ATL\",\"SFO\"].\n",
    "Another possible reconstruction is [\"JFK\",\"SFO\",\"ATL\",\"JFK\",\"ATL\",\"SFO\"]. But it is larger in lexical order.\n",
    "```"
   ]
  },
  {
   "cell_type": "code",
   "execution_count": 3,
   "metadata": {
    "collapsed": true
   },
   "outputs": [],
   "source": [
    "def findItinerary(self, tickets):\n",
    "        \"\"\"\n",
    "        :type tickets: List[List[str]]\n",
    "        :rtype: List[str]\n",
    "        \"\"\"\n",
    "        targets = collections.defaultdict(list) \n",
    "        for a, b in sorted(tickets)[::-1]:\n",
    "            targets[a] += b,\n",
    "        route = []\n",
    "        def dfs(cur):\n",
    "            while target[cur]:              # use while instead of for to pop next without affecting for-loop\n",
    "                dfs(target[cur].pop())      \n",
    "            route.append(cur)\n",
    "        visit('JFK')\n",
    "        return route[::-1]"
   ]
  },
  {
   "cell_type": "code",
   "execution_count": null,
   "metadata": {
    "collapsed": true
   },
   "outputs": [],
   "source": []
  }
 ],
 "metadata": {
  "kernelspec": {
   "display_name": "Python 3",
   "language": "python",
   "name": "python3"
  },
  "language_info": {
   "codemirror_mode": {
    "name": "ipython",
    "version": 3
   },
   "file_extension": ".py",
   "mimetype": "text/x-python",
   "name": "python",
   "nbconvert_exporter": "python",
   "pygments_lexer": "ipython3",
   "version": "3.6.3"
  }
 },
 "nbformat": 4,
 "nbformat_minor": 2
}
