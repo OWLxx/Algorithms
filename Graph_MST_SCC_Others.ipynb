{
 "cells": [
  {
   "cell_type": "markdown",
   "metadata": {},
   "source": [
    "# MST\n",
    "## Kruskal's Algorithm      O(m log m)\n",
    "1. The minimum weight edge should be included\n",
    "2. After an edge is choosen, the two nodes at the ends can be merged and considered as a single node\n",
    "#### Pseudocode\n",
    "* Sort edges in increasing order of weight\n",
    "* Repeat until there is only one super node left\n",
    "    * Take the minimum weight edge e\n",
    "    * If e connects two different supernodes, connect and merge them (union find)\n",
    "    * else: ignore e and continue\n",
    "\n",
    "## Prim's Algorithm  O(n^2 + m), O(mlogn) or O(m + nlogn)\n",
    "1. Keeps adding smallest weighted (heap or priority queue) edge e = (u, v),  u is in exploed and v not in explored\n",
    "2. End when all edges are explored\n",
    "\n",
    "## SCC\n",
    "<img src=\"./images/SCC1.png\" alt=\"SCC\" style=\"width: 500px; \"align=\"left\"/>\n",
    "* Reverse all vertices as G_reversed\n",
    "* Run DFS-Loop on G_reversed\n",
    "* RUn DFS-Loop on G\n",
    "**SCCs = nodes with the same leader** <br>\n",
    "DFS-Loop  mark leaders for all loop"
   ]
  },
  {
   "cell_type": "code",
   "execution_count": null,
   "metadata": {
    "collapsed": true
   },
   "outputs": [],
   "source": []
  }
 ],
 "metadata": {
  "kernelspec": {
   "display_name": "Python 3",
   "language": "python",
   "name": "python3"
  },
  "language_info": {
   "codemirror_mode": {
    "name": "ipython",
    "version": 3
   },
   "file_extension": ".py",
   "mimetype": "text/x-python",
   "name": "python",
   "nbconvert_exporter": "python",
   "pygments_lexer": "ipython3",
   "version": "3.6.3"
  }
 },
 "nbformat": 4,
 "nbformat_minor": 2
}
