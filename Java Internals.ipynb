{
 "cells": [
  {
   "cell_type": "markdown",
   "metadata": {},
   "source": [
    "### 1. Scanner\n",
    "```java\n",
    "Scanner scan = new Scanner(System.in);\n",
    "int i2;\n",
    "double d2;\n",
    "String S2;\n",
    "i2 = scan.nextInt();\n",
    "d2 = scan.nextDouble();\n",
    "scan.nextLine(); // read the rest of the line of input (newline character after the double token).\n",
    "s2 = scan.nextLine();\n",
    "```"
   ]
  },
  {
   "cell_type": "code",
   "execution_count": null,
   "metadata": {
    "collapsed": true
   },
   "outputs": [],
   "source": []
  }
 ],
 "metadata": {
  "kernelspec": {
   "display_name": "SciJava",
   "language": "groovy",
   "name": "scijava"
  },
  "language_info": {
   "codemirror_mode": "groovy",
   "file_extension": "",
   "mimetype": "",
   "name": "scijava",
   "nbconverter_exporter": "",
   "pygments_lexer": "groovy",
   "version": "1.0"
  }
 },
 "nbformat": 4,
 "nbformat_minor": 2
}
