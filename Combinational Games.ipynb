{
 "cells": [
  {
   "cell_type": "markdown",
   "metadata": {},
   "source": [
    "# Minimax, Nim Game, Grundy Numbers  (XOR), alpha-beta\n",
    "## Example\n",
    "LC 464. Can I Win\n",
    "In the \"100 game,\" two players take turns adding, to a running total, any integer from 1..10. The player who first causes the running total to reach or exceed 100 wins.\n",
    "What if we change the game so that players cannot re-use integers?\n",
    "\n",
    "LC 486. Predict the Winner\n",
    "Given an array of scores that are non-negative integers. Player 1 picks one of the numbers from either end of the array followed by the player 2 and then player 1 and so on. Each time a player picks a number, that number will not be available for the next player. This continues until all the scores have been chosen. The player with the maximum score wins.\n",
    "Given an array of scores, predict whether player 1 is the winner. You can assume each player plays to maximize his score.\n",
    "\n",
    "## General Idea\n",
    "1. Assume current function returns if current player could win or not **MiniMax**\n",
    "2. Recursion-  if any(not self.nextPlayer(potential movements)):  return True/current step    else:    return False\n",
    "3. Keep visited state for efficiency\n",
    "\n",
    "## Special Case\n",
    "\n",
    "\n"
   ]
  },
  {
   "cell_type": "markdown",
   "metadata": {},
   "source": [
    "### LC 292. Nim Game\n",
    "You are playing the following Nim Game with your friend: There is a heap of stones on the table, each time one of you take turns to remove 1 to 3 stones. The one who removes the last stone will be the winner. You will take the first turn to remove the stones.\n",
    "\n",
    "> The first one who got the number that is multiple of 4 (i.e. n % 4 == 0) will lost, otherwise he/she will win.\n",
    "\n",
    "### Nim Game2\n",
    "What if there are multiple heaps?\n",
    "* Given heaps of size n1, n2, ..., n<sub>m</sub>\n",
    "* The first player wins iff n1 ^ n2 ^ ... ^ nm != 0"
   ]
  },
  {
   "cell_type": "markdown",
   "metadata": {},
   "source": [
    "### Playing multiple games at once\n",
    "Suppose that multiple games are played at the same time. At\n",
    "each turn, the player chooses a game and make a move. You\n",
    "lose if there is no possible move. We want to determine the\n",
    "winner.\n",
    "* For each game, we compute its Grundy number\n",
    "* The first player wins iff XOR of all the Grundy numbers is nonzero\n",
    "### How to calculate grundy number?\n",
    "* Let S be a state, and T1, T2, ... Ts be states can be reached from S using a single move\n",
    "* The Grundy number g(S) is **the smallest nonnegative integer that doesn't appear in {g(T1), g(T2), ..., g(Tm)}**\n",
    "    * Grundy number of a **losing state** is 0\n",
    "    \n",
    "### Example one-pile one-step nim game\n",
    "g(0) = 0, because lose <br>\n",
    "g(1) = 1, because 0 is the only reachable state <br>\n",
    "similarly, g(2) = 0, g(3) = 1, ... <br>\n",
    "### Example one-pile two-step nim game\n",
    "g(0) = 0, because lose<br>\n",
    "g(1) = 1, next can only be 0 <br>\n",
    "g(2) = 2, next can be 0 or 1 <br>\n",
    "g(3) = 0, next can be 1 or 2 <br>\n",
    "\n",
    "**Hints**:\n",
    "* If the state space is small, use memorization\n",
    "* If not, print out result of the games for small test data and look for a pattern\n",
    "* If multiple games are played at once, use Grundy numbers\n",
    "   "
   ]
  },
  {
   "cell_type": "markdown",
   "metadata": {},
   "source": [
    "### LC 294. Flip Game II\n",
    "You are playing the following Flip Game with your friend: Given a string that contains only these two characters: + and -, you and your friend take turns to flip two consecutive \"++\" into \"--\". The game ends when a person can no longer make a move and therefore the other person will be the winner.\n",
    "\n",
    "Initial Time Complexity:  T(N) = (N-2) * T(N-2) = (N-2) * (N-4) * T(N-4) ... = (N-2) * (N-4) * (N-6) * ... ~ O(N!!)\n",
    "\n",
    "[Can we do better?](https://leetcode.com/problems/flip-game-ii/discuss/73954/Theory-matters-from-Backtracking(128ms)-to-DP-(0ms)).  Following part from the article.\n",
    "\n",
    ">Now we understand the the flip game is an impartial game under normal play. Luckily, this type of game has been extensively studied. Note that our following discussion only applies to normal impartial games.\n",
    "\n",
    "\n",
    ">**Concept 3 (Sprague-Grundy Function):** Suppose x represents a particular\n",
    "arrangement of board, and x_0, x_1, x_2, … ,x_k represent the board\n",
    "after a valid move, then we define the Sprague-Grundy function as:\n",
    "\n",
    "> g(x) = FirstMissingNumber(g(x_0), g(x_1), g(x_2), ... , g(x_k)). \n",
    "where FirstMissingNumber(y) stands for the smallest positive number\n",
    "that is not in set y. For instance, if g(x_0) = 0, g(x_1) = 0, g(x_k) =\n",
    "2, then g(x) = FMV({0, 0, 2}) = 1.\n",
    "\n",
    ">**Theorem 1:** If g(x) != 0, then 1P must have a guaranteed winning move\n",
    "from board state x. Otherwise, no matter how 1P moves, 2P must then\n",
    "have a winning move.\n",
    "\n",
    ">So our task now is to calculate g(board). But how to do that? Let’s first of all find a way to numerically describe the board. Since we can only flip ++ to --, then apparently, we only need to write down the lengths of consecutive ++'s of length >= 2 to define a board. For instance ++--+--++++-+ will be represented as (2, 4)\n",
    "\n",
    ">(2, 4) has two separate ‘+’ subsequences. Any operation made on one subsequence does not interfere with the state of the other. Therefore, we say (2, 4) consists of two subgames: (2) and (4).\n",
    "\n",
    ">Okay now we are only one more theorem away from the solution. This is the last theorem. I promise:\n",
    "\n",
    ">Theorem 2 (Sprague-Grundy Theorem): The S-G function of game x = (s1,\n",
    "s2, …, sk) equals the XOR of all its subgames s1, s2, …, sk. e.g.\n",
    "g((s1, s2, s3)) = g(s1) XOR g(s2) XOR g(s3).\n",
    "\n",
    ">With the S-G theorem, we can now compute any arbitrary g(x). If x contains only one number N (there is only one ‘+’ subsequence), then\n",
    "\n",
    ">g(x) = FMV(g(0, N-2), g(1, N-3), g(2, N-4), ... , g(N/2-1, N-N/2-2));\n",
    ">     = FMV(g(0)^g(N-2), g(1)^g(N-3), g(2)^g(N-4)), ... g(N/2-1, N-N/2-2));\n",
    "\n",
    ">Now we have the whole algorithm:\n",
    "\n",
    ">Convert the board to numerical representation: x = (s1, s2, ..., sk)\n",
    "Calculate g(0) to g(max(si)) using DP.\n",
    "if g(s1)^g(s2)^...^g(sk) != 0 return true, otherwise return false."
   ]
  },
  {
   "cell_type": "code",
   "execution_count": 5,
   "metadata": {},
   "outputs": [
    {
     "name": "stdout",
     "output_type": "stream",
     "text": [
      "Note the first index is 0......\n",
      "For multiple heap Nim games, its the same because each heap would have the same properties !!!!!!\n",
      "['++', '+', '++++', '+']\n",
      "['++', '', '+', '', '++++', '+']\n",
      "g [0, 0]\n",
      "g [0, 0, 1]\n",
      "g [0, 0, 1, 1]\n",
      "g [0, 0, 1, 1, 2]\n",
      "True\n",
      "['++']\n",
      "['++']\n",
      "g [0, 0]\n",
      "g [0, 0, 1]\n",
      "True\n"
     ]
    }
   ],
   "source": [
    "import re\n",
    "def canWin(s):\n",
    "    g, G = [0], 0\n",
    "    print(re.split('-+', s))\n",
    "    print(s.split('-'))\n",
    "    for p in map(len, re.split('-+', s)):\n",
    "        while len(g) <= p:\n",
    "            g += min(set(range(p)) - {a^b for a, b in zip(g, g[-2::-1])}),\n",
    "            print ('g',  g)\n",
    "        G ^= g[p]\n",
    "    return G > 0\n",
    "\n",
    "print(\"Note the first index is 0......\")\n",
    "print(\"For multiple heap Nim games, its the same because each heap would have the same properties !!!!!!\")\n",
    "s = '++--+--++++-+'\n",
    "print(canWin(s))\n",
    "s = '++'\n",
    "print(canWin(s))\n"
   ]
  },
  {
   "cell_type": "markdown",
   "metadata": {
    "collapsed": true
   },
   "source": []
  },
  {
   "cell_type": "markdown",
   "metadata": {
    "collapsed": true
   },
   "source": [
    "## Alpha-beta pruning\n",
    "Alpha–beta pruning is a search algorithm that seeks to decrease the number of nodes that are evaluated by the minimax algorithm in its search tree. It is an adversarial search algorithm used commonly for machine playing of two-player games (Tic-tac-toe, Chess, Go, etc.). <br>\n",
    "\n",
    "alpha: best already explored option along path to the root for maximizer <br>\n",
    "beta: ................................................................for minimizer"
   ]
  },
  {
   "cell_type": "code",
   "execution_count": null,
   "metadata": {
    "collapsed": true
   },
   "outputs": [],
   "source": []
  }
 ],
 "metadata": {
  "kernelspec": {
   "display_name": "Python 3",
   "language": "python",
   "name": "python3"
  },
  "language_info": {
   "codemirror_mode": {
    "name": "ipython",
    "version": 3
   },
   "file_extension": ".py",
   "mimetype": "text/x-python",
   "name": "python",
   "nbconvert_exporter": "python",
   "pygments_lexer": "ipython3",
   "version": "3.6.3"
  }
 },
 "nbformat": 4,
 "nbformat_minor": 2
}
