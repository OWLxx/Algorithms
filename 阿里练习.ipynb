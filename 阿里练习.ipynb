{
 "cells": [
  {
   "cell_type": "markdown",
   "metadata": {},
   "source": [
    "```\n",
    "现在城市有N个路口，每个路口有自己的编号，从0到N-1，每个路口还有自己的交通控制信号，例如0,3表示0号路口的交通信号每3个时刻变化一次，即0到3时刻0号路口允许通过，3到6时刻不允许通过，而6到9时刻又允许通过；以此类推，所有路口的允许通行都从时刻0开始。同时城市中存在M条道路将这N个路口相连接起来，确保从一个路口到另一个路口都可达，每条路由两个端点加上通行所需要的时间表示。现在给定起始路口和目的路口，从0时刻出发,请问最快能在什么时刻到达？\n",
    "\n",
    "eg:\n",
    "input\n",
    "6 \n",
    "0,16 \n",
    "1,17 \n",
    "2,15 \n",
    "3,17 \n",
    "4,18 \n",
    "5,14 \n",
    "9 \n",
    "0,1,66 \n",
    "0,2,80 \n",
    "0,3,50 \n",
    "1,4,78 \n",
    "1,5,90 \n",
    "1,2,30 \n",
    "2,3,45 \n",
    "2,5,81 \n",
    "4,5,76\n",
    "output\n",
    "1 2 66.0 \n",
    "1 3 80.0 \n",
    "1 4 50.0 \n",
    "1 5 146.0 \n",
    "1 6 158.0 \n",
    "2 1 66.0 \n",
    "2 3 30.0 \n",
    "2 4 75.0 \n",
    "2 5 78.0 \n",
    "2 6 90.0 \n",
    "3 1 80.0 \n",
    "3 2 30.0 \n",
    "3 4 45.0 \n",
    "3 5 112.0 \n",
    "3 6 81.0 \n",
    "4 1 50.0 \n",
    "4 2 90.0 \n",
    "4 3 45.0 \n",
    "4 5 180.0 \n",
    "4 6 141.0 \n",
    "5 1 144.0 \n",
    "5 2 78.0 \n",
    "5 3 108.0 \n",
    "5 4 165.0 \n",
    "5 6 76.0 \n",
    "6 1 168.0 \n",
    "6 2 90.0 \n",
    "6 3 81.0 \n",
    "6 4 135.0 \n",
    "6 5 76.0\n",
    "```"
   ]
  },
  {
   "cell_type": "code",
   "execution_count": 27,
   "metadata": {},
   "outputs": [
    {
     "name": "stdout",
     "output_type": "stream",
     "text": [
      "defaultdict(<class 'dict'>, {0: {1: 66, 2: 80, 3: 50}, 1: {0: 66, 4: 78, 5: 90, 2: 30}, 2: {0: 80, 1: 30, 3: 45, 5: 81}, 3: {0: 50, 2: 45}, 4: {1: 78, 5: 76}, 5: {1: 90, 2: 81, 4: 76}})\n"
     ]
    },
    {
     "data": {
      "text/plain": [
       "158"
      ]
     },
     "execution_count": 27,
     "metadata": {},
     "output_type": "execute_result"
    }
   ],
   "source": [
    "\"\"\"\n",
    "Shortest path + bias\n",
    "Dijkstra\n",
    "\"\"\"\n",
    "import collections\n",
    "def waitTime(curTime, target, cross):\n",
    "    if curTime%cross[target]%2==0:\n",
    "        return 0\n",
    "    else:\n",
    "        return cross[target] - (curTime%cross[target])\n",
    "    \n",
    "def solver(crossing, path, start, end):\n",
    "    num = len(crossing)\n",
    "    unvisited = {i:float('inf') for i in range(num)}\n",
    "    unvisited[start] = 0\n",
    "    visited = dict()\n",
    "    \n",
    "    graph = collections.defaultdict(dict)\n",
    "    for i, j, time in path:\n",
    "        graph[i][j] = time\n",
    "        graph[j][i] = time\n",
    "    cross = dict()\n",
    "    print(graph)\n",
    "    for idx, dly in crossing:\n",
    "        cross[idx] = dly\n",
    "    while end not in visited:\n",
    "        curNode = min(list(unvisited.keys()), key=lambda x: unvisited[x])\n",
    "        visited[curNode] = unvisited[curNode]\n",
    "        del unvisited[curNode]\n",
    "        for nei in graph[curNode].keys():\n",
    "            if nei in unvisited:               \n",
    "                wait = waitTime(visited[curNode], curNode, cross)\n",
    "                unvisited[nei] = min(unvisited[nei], visited[curNode]+graph[curNode][nei] + wait)\n",
    "    return visited[curNode]\n",
    "        \n",
    "crossing = [[0, 16], [1, 17], [2, 15], [3, 17], [4, 18], [5, 14]]\n",
    "path = [[0, 1, 66], [0, 2, 80], [0, 3, 50], [1, 4, 78], [1, 5, 90], [1, 2, 30], [2, 3, 45], [2, 5, 81], [4, 5, 76]]\n",
    "solver(crossing, path, 0, 5)\n",
    "    "
   ]
  },
  {
   "cell_type": "markdown",
   "metadata": {
    "collapsed": true
   },
   "source": [
    "```\n",
    "求任意一点落在心形曲线内的概率？\n",
    "X, Y normal distributed\n",
    "心形曲线 (x^2 + y^2 -1)^2 - x^2y^2 = 0\n",
    "\n",
    "1. simulation, eg, pick 10000 point\n",
    "2. discrete solution, mesh grid the curve, and find the possibility of N1N2 for each grid, and get the sum\n",
    "\n",
    "```\n"
   ]
  },
  {
   "cell_type": "markdown",
   "metadata": {},
   "source": [
    "```\n",
    "某城市实行随机化小汽车指标拍卖摇号，每月一次，中签概率p=bid/100 000，其中bid为出价，如果中签将按照此bid付钱给交管局，每月摇号之前可以变更一次bid。由于某种强制限制条件的原因，小丽需要在6个月内中签一次，然后终止摇号。请问如何设置每次的出价，使得小李付出的期望成本最低？最低值是多少？保留4位有效数字。\n",
    "\n",
    "If the first 5 times fail, 6th = 100000\n",
    "\n",
    "If 4th time fails, minimize x^2/10 + (1-x)*10  => x = 5\n",
    ".....\n",
    "\n",
    "```\n"
   ]
  },
  {
   "cell_type": "markdown",
   "metadata": {},
   "source": [
    "```\n",
    "沐哲是一个菜鸟仓库的一个拣货员，但他有非常个怪异的习惯。每次拣货的重量都要比之前拣的一个轻，每次拣到货后都可以得到1块钱，沐哲想知道这样最多能赚多少钱 \n",
    "32 34 7 33 21 2 \n",
    "13 12 3 11 26 36 \n",
    "16 30 22 1 24 14 \n",
    "20 23 25 5 19 29 \n",
    "27 15 9 17 31 4 \n",
    "6 18 8 10 35 28 \n",
    "沐哲可以从仓库的某个货架开始拣货，下一步可以往上走，也可以往下走，当然，向左向右也可以，但必须使得下一个货物重量减小，才会去拣。在上面的仓库中，一条可拣货的路径为 25-22-3。当然30-23-20-16-13-12-3可以拣的货更多。这也是赚钱最多的一条路径。\n",
    "```"
   ]
  },
  {
   "cell_type": "code",
   "execution_count": 2,
   "metadata": {
    "collapsed": true
   },
   "outputs": [],
   "source": [
    "# 1. dp, save maxlength of visited point\n",
    "def solve(matrix):\n",
    "    if not matrix or not matrix[0]: return 0\n",
    "    m, n = len(matrix), len(matrix[0])\n",
    "    visited = []\n",
    "    order = [[-1]*n for _ in range(m)]\n",
    "    def dfs(i, j):\n",
    "        order[i][j] = -2 # in visiting\n",
    "        for di, dj in [(-1, 0), (1, 0), (0, 1), (0, -1)]:\n",
    "            if 0<=i+di<m and 0<=j+dj<n and order[i+di][j+dj]==-1 and matrix[i][j] < matrix[i+di][j+dj]:\n",
    "                dfs(i+di, j+dj)\n",
    "        order[i][j] = 1\n",
    "        visited.append((i, j, matrix[i][j]))\n",
    "\n",
    "    [dfs(i, j) for i in range(m) for j in range(n) if order[i][j] == -1]\n",
    "\n",
    "    c = 1\n",
    "    visited = visited[::-1]\n",
    "    order[visited[0][0]][visited[0][1]] = 1\n",
    "    pre = visited[0][2]\n",
    "    for i, j, cur in visited:\n",
    "        for di, dj in [(-1, 0), (1, 0), (0, 1), (0, -1)]:\n",
    "            if 0<=i+di<m and 0<=j+dj<n and cur < matrix[i+di][j+dj]:\n",
    "                order[i+di][j+dj] = max(order[i+di][j+dj], order[i][j]+1)\n",
    "    return max(map(max, order))\n",
    "\n",
    "        \n",
    "    \n"
   ]
  },
  {
   "cell_type": "markdown",
   "metadata": {
    "collapsed": true
   },
   "source": [
    "```\n",
    "菜鸟仓库的货架格子编号满足如下规律：第1个格子编号为1，第2-3个12，第4-6个格子编号为123……以此类推每个格子由一个0-9之间的整数编号，n个格子的编号连起来有如下规律1|12|123|……|123456789101112131415|……|12345678910111213141516…k，仓库中的储位一共有一千多万个。如何快速找到第K个格子对应的编号。\n",
    "```"
   ]
  },
  {
   "cell_type": "code",
   "execution_count": 4,
   "metadata": {},
   "outputs": [
    {
     "name": "stdout",
     "output_type": "stream",
     "text": [
      "1 1.0\n",
      "2 1.0\n",
      "3 2.0\n",
      "4 1.0\n",
      "5 2.0\n",
      "6 3.0\n",
      "7 1.0\n",
      "8 2.0\n",
      "9 3.0\n",
      "10 4.0\n",
      "11 1.0\n",
      "12 2.0\n",
      "13 3.0\n",
      "14 4.0\n",
      "15 5.0\n",
      "16 1.0\n",
      "17 2.0\n",
      "18 3.0\n",
      "19 4.0\n",
      "20 5.0\n",
      "21 6.0\n",
      "22 1.0\n",
      "23 2.0\n",
      "24 3.0\n",
      "25 4.0\n",
      "26 5.0\n",
      "27 6.0\n",
      "28 7.0\n",
      "29 1.0\n",
      "30 2.0\n",
      "31 3.0\n",
      "32 4.0\n",
      "33 5.0\n",
      "34 6.0\n",
      "35 7.0\n",
      "36 8.0\n",
      "37 1.0\n",
      "38 2.0\n",
      "39 3.0\n",
      "40 4.0\n",
      "41 5.0\n",
      "42 6.0\n",
      "43 7.0\n",
      "44 8.0\n",
      "45 9.0\n",
      "46 1.0\n",
      "47 2.0\n",
      "48 3.0\n",
      "49 4.0\n"
     ]
    }
   ],
   "source": [
    "# (n+1)n / 2 <= x \n",
    "def solver(x):\n",
    "    row = (-1 + (1+8*x)**0.5)/2\n",
    "    if row == int(row):\n",
    "        return row\n",
    "    else:\n",
    "        row = int(row)\n",
    "        return x - (row+1)*(row)/2\n",
    "for i in range(1, 50):\n",
    "    print(i, solver(i))"
   ]
  },
  {
   "cell_type": "code",
   "execution_count": null,
   "metadata": {
    "collapsed": true
   },
   "outputs": [],
   "source": []
  }
 ],
 "metadata": {
  "kernelspec": {
   "display_name": "Python 3",
   "language": "python",
   "name": "python3"
  },
  "language_info": {
   "codemirror_mode": {
    "name": "ipython",
    "version": 3
   },
   "file_extension": ".py",
   "mimetype": "text/x-python",
   "name": "python",
   "nbconvert_exporter": "python",
   "pygments_lexer": "ipython3",
   "version": "3.6.3"
  }
 },
 "nbformat": 4,
 "nbformat_minor": 2
}
