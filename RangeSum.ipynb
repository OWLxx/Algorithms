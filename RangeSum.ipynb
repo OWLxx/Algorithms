{
 "cells": [
  {
   "cell_type": "markdown",
   "metadata": {},
   "source": [
    "# Range Sum\n",
    "### 548. Split Array with Equal Sum\n",
    "Given an array with n integers, you need to find if there are triplets (i, j, k) which satisfies following conditions:\n",
    "\n",
    "0 < i, i + 1 < j, j + 1 < k < n - 1\n",
    "Sum of subarrays (0, i - 1), (i + 1, j - 1), (j + 1, k - 1) and (k + 1, n - 1) should be equal.\n",
    "where we define that subarray (L, R) represents a slice of the original array starting from the element indexed L to the element indexed R.\n",
    "\n",
    "Example: <br>\n",
    "Input: [1,2,1,2,1,2,1]<br>\n",
    "Output: True<br>\n",
    "Explanation:<br>\n",
    "i = 1, j = 3, k = 5. <br>\n",
    "sum(0, i - 1) = sum(0, 0) = 1<br>\n",
    "sum(i + 1, j - 1) = sum(2, 2) = 1<br>\n",
    "sum(j + 1, k - 1) = sum(4, 4) = 1<br>\n",
    "sum(k + 1, n - 1) = sum(6, 6) = 1<br>\n",
    "\n",
    "\n",
    "```python\n",
    "def splitArray(self, nums):\n",
    "        n = len(nums)\n",
    "        s = [0] * (n + 1)\n",
    "        for i in range(n): s[i + 1] = s[i] + nums[i]\n",
    "        def check(l, r):\n",
    "            return set(s[m] - s[l] for m in range(l + 1, r + 1) if s[m] - s[l] == s[r + 1] - s[m + 1])\n",
    "        return any(check(0, j - 1) & check(j + 1, n - 1) for j in range(n))\n",
    "```"
   ]
  },
  {
   "cell_type": "code",
   "execution_count": null,
   "metadata": {
    "collapsed": true
   },
   "outputs": [],
   "source": []
  }
 ],
 "metadata": {
  "kernelspec": {
   "display_name": "Python 3",
   "language": "python",
   "name": "python3"
  },
  "language_info": {
   "codemirror_mode": {
    "name": "ipython",
    "version": 3
   },
   "file_extension": ".py",
   "mimetype": "text/x-python",
   "name": "python",
   "nbconvert_exporter": "python",
   "pygments_lexer": "ipython3",
   "version": "3.6.3"
  }
 },
 "nbformat": 4,
 "nbformat_minor": 2
}
