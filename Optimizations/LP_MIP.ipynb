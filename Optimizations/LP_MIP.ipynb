{
 "cells": [
  {
   "cell_type": "markdown",
   "metadata": {},
   "source": [
    "# 1. Goal\n",
    "Minimize  $c^T x$ <br>\n",
    "S.T.  $Ax = b, x_i>=0$"
   ]
  },
  {
   "attachments": {},
   "cell_type": "markdown",
   "metadata": {},
   "source": [
    "# 2. Simplex Algorithm\n",
    "    2.1 An optimal solution is located at a vertex\n",
    "    2.2 A vertex is a Basic Feasible Solution (BFS)\n",
    "    \n",
    "**Naive Algorithm** <br>\n",
    "If constraint is not equations, add *slack variable* <br>\n",
    "BFS:  $\\frac{n!}{(m!)(n-m)!}$ <br>\n",
    "**Simplex Algorithm**  (local move)  (pivoting function)\n",
    "    > Select a non-basic variable with a negative coefficient\n",
    "    > Introduce this variable in the basis by removing a basic variable  (select arg-min  abs(bi_enter/ai_exit))\n",
    "    > Perform Gaussian elimination\n",
    "\n",
    "<img src=\"./images/simplex1.png\" width=\"50%\">\n",
    "**A numerical example of local move** <br>\n",
    "**A BFS is optimal if its objective function, after having eliminating all the basic variables, is of form <br>$c_0 + c_1x_1 + ... + c_nx_n$ <br> with <br> $c_i >= 0 (1 <=i <=n)$** \n",
    "<img src=\"./images/simplex2.png\" width=\"50%\">"
   ]
  },
  {
   "cell_type": "markdown",
   "metadata": {},
   "source": [
    "# [3. Duality(Lagrange Function)](https://en.wikipedia.org/wiki/Duality_(optimization))"
   ]
  },
  {
   "cell_type": "code",
   "execution_count": null,
   "metadata": {
    "collapsed": true
   },
   "outputs": [],
   "source": []
  }
 ],
 "metadata": {
  "kernelspec": {
   "display_name": "Python 3",
   "language": "python",
   "name": "python3"
  },
  "language_info": {
   "codemirror_mode": {
    "name": "ipython",
    "version": 3
   },
   "file_extension": ".py",
   "mimetype": "text/x-python",
   "name": "python",
   "nbconvert_exporter": "python",
   "pygments_lexer": "ipython3",
   "version": "3.6.3"
  }
 },
 "nbformat": 4,
 "nbformat_minor": 2
}
