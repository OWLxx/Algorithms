{
 "cells": [
  {
   "cell_type": "markdown",
   "metadata": {},
   "source": [
    "## [454. 4SUMII](https://leetcode.com/problems/4sum-ii/description/)\n",
    "```\n",
    "Given four lists A, B, C, D of integer values, compute how many tuples (i, j, k, l) there are such that A[i] + B[j] + C[k] + D[l] is zero.\n",
    "\n",
    "To make problem a bit easier, all A, B, C, D have same length of N where 0 ≤ N ≤ 500. All integers are in the range of -228 to 228 - 1 and the result is guaranteed to be at most 231 - 1.\n",
    "\n",
    "Example:\n",
    "\n",
    "Input:\n",
    "A = [ 1, 2]\n",
    "B = [-2,-1]\n",
    "C = [-1, 2]\n",
    "D = [ 0, 2]\n",
    "\n",
    "Output:\n",
    "2\n",
    "\n",
    "Explanation:\n",
    "The two tuples are:\n",
    "1. (0, 0, 0, 1) -> A[0] + B[0] + C[0] + D[1] = 1 + (-2) + (-1) + 2 = 0\n",
    "2. (1, 1, 0, 0) -> A[1] + B[1] + C[0] + D[0] = 2 + (-1) + (-1) + 0 = 0\n",
    "```"
   ]
  },
  {
   "cell_type": "code",
   "execution_count": 1,
   "metadata": {
    "collapsed": true
   },
   "outputs": [],
   "source": [
    "def fourSumCount(self, A, B, C, D):\n",
    "    AB = collections.Counter(a+b for a in A for b in B)\n",
    "    return sum(AB[-c-d] for c in C for d in D)"
   ]
  },
  {
   "cell_type": "code",
   "execution_count": 5,
   "metadata": {},
   "outputs": [
    {
     "name": "stdout",
     "output_type": "stream",
     "text": [
      "0\n",
      "0\n",
      "1\n",
      "1\n",
      "1\n",
      "2\n",
      "4\n",
      "4\n"
     ]
    }
   ],
   "source": [
    "import bisect\n",
    "a = [1, 3, 5, 7]\n",
    "print(bisect.bisect_left(a,0))\n",
    "print(bisect.bisect_right(a,0))\n",
    "print(bisect.bisect_left(a,2))\n",
    "print(bisect.bisect_right(a,2))\n",
    "print(bisect.bisect_left(a,3))\n",
    "print(bisect.bisect_right(a,3))\n",
    "print(bisect.bisect_left(a,9))\n",
    "print(bisect.bisect_right(a,9))"
   ]
  },
  {
   "cell_type": "code",
   "execution_count": 8,
   "metadata": {},
   "outputs": [
    {
     "name": "stdout",
     "output_type": "stream",
     "text": [
      "0\n",
      "0\n",
      "1\n",
      "1\n",
      "1\n",
      "1\n",
      "4\n",
      "4\n"
     ]
    }
   ],
   "source": [
    "a = [[1,3], [3,5], [5,2], [7,0]]\n",
    "print(bisect.bisect_left(a,[0]))\n",
    "print(bisect.bisect_right(a,[0]))\n",
    "print(bisect.bisect_left(a,[2]))\n",
    "print(bisect.bisect_right(a,[2]))\n",
    "print(bisect.bisect_left(a,[3]))\n",
    "print(bisect.bisect_right(a,[3]))\n",
    "print(bisect.bisect_left(a,[9]))\n",
    "print(bisect.bisect_right(a,[9]))"
   ]
  },
  {
   "cell_type": "markdown",
   "metadata": {
    "collapsed": true
   },
   "source": [
    "### 548. Split Array with Equal Sum\n",
    "Given an array with n integers, you need to find if there are triplets (i, j, k) which satisfies following conditions:\n",
    "\n",
    "0 < i, i + 1 < j, j + 1 < k < n - 1\n",
    "Sum of subarrays (0, i - 1), (i + 1, j - 1), (j + 1, k - 1) and (k + 1, n - 1) should be equal.\n",
    "where we define that subarray (L, R) represents a slice of the original array starting from the element indexed L to the element indexed R.\n",
    "\n",
    "Example: <br>\n",
    "Input: [1,2,1,2,1,2,1]<br>\n",
    "Output: True<br>\n",
    "Explanation:<br>\n",
    "i = 1, j = 3, k = 5. <br>\n",
    "sum(0, i - 1) = sum(0, 0) = 1<br>\n",
    "sum(i + 1, j - 1) = sum(2, 2) = 1<br>\n",
    "sum(j + 1, k - 1) = sum(4, 4) = 1<br>\n",
    "sum(k + 1, n - 1) = sum(6, 6) = 1<br>\n",
    "\n",
    "\n",
    "```python\n",
    "def splitArray(self, nums):\n",
    "        n = len(nums)\n",
    "        s = [0] * (n + 1)\n",
    "        for i in range(n): s[i + 1] = s[i] + nums[i]\n",
    "        def check(l, r):\n",
    "            return set(s[m] - s[l] for m in range(l + 1, r + 1) if s[m] - s[l] == s[r + 1] - s[m + 1])\n",
    "        return any(check(0, j - 1) & check(j + 1, n - 1) for j in range(n))\n",
    "```"
   ]
  },
  {
   "cell_type": "code",
   "execution_count": null,
   "metadata": {
    "collapsed": true
   },
   "outputs": [],
   "source": []
  }
 ],
 "metadata": {
  "kernelspec": {
   "display_name": "Python 3",
   "language": "python",
   "name": "python3"
  },
  "language_info": {
   "codemirror_mode": {
    "name": "ipython",
    "version": 3
   },
   "file_extension": ".py",
   "mimetype": "text/x-python",
   "name": "python",
   "nbconvert_exporter": "python",
   "pygments_lexer": "ipython3",
   "version": "3.6.3"
  }
 },
 "nbformat": 4,
 "nbformat_minor": 2
}
